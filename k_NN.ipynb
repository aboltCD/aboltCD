{
  "nbformat": 4,
  "nbformat_minor": 0,
  "metadata": {
    "colab": {
      "name": "k-NN.ipynb",
      "provenance": [],
      "authorship_tag": "ABX9TyOk8hKLk8YVF4XUiu352ghq",
      "include_colab_link": true
    },
    "kernelspec": {
      "name": "python3",
      "display_name": "Python 3"
    },
    "language_info": {
      "name": "python"
    }
  },
  "cells": [
    {
      "cell_type": "markdown",
      "metadata": {
        "id": "view-in-github",
        "colab_type": "text"
      },
      "source": [
        "<a href=\"https://colab.research.google.com/github/aboltCD/aboltCD/blob/main/k_NN.ipynb\" target=\"_parent\"><img src=\"https://colab.research.google.com/assets/colab-badge.svg\" alt=\"Open In Colab\"/></a>"
      ]
    },
    {
      "cell_type": "markdown",
      "metadata": {
        "id": "4rJz_HiOaIaj"
      },
      "source": [
        "# Evaluando k-NN en el datset de Iris\n",
        "\n",
        "En este notebook utilizaremos el clasificador k-NN en el dataset de Iris, y evaluaremos cuál es el k óptimo para este dataset.\n",
        "\n",
        "Comenzamos por cargar las librerías necesarias:"
      ]
    },
    {
      "cell_type": "code",
      "metadata": {
        "id": "ugQOjsF6aQE1"
      },
      "source": [
        "import pandas as pd\n",
        "import numpy as np\n",
        "\n",
        "from sklearn.preprocessing import StandardScaler\n",
        "from sklearn.datasets import load_iris\n",
        "from sklearn.neighbors import KNeighborsClassifier\n",
        "from sklearn.model_selection import train_test_split"
      ],
      "execution_count": 189,
      "outputs": []
    },
    {
      "cell_type": "markdown",
      "metadata": {
        "id": "-rLqrYo7aqau"
      },
      "source": [
        "Ahora cargamos los datos, seteamos la lista de features y el target del modelo (variable a predecir)"
      ]
    },
    {
      "cell_type": "code",
      "metadata": {
        "colab": {
          "base_uri": "https://localhost:8080/",
          "height": 204
        },
        "id": "CcbOXwoRascG",
        "outputId": "6a495394-ba1c-4e96-e770-a2e44a3802c3"
      },
      "source": [
        "data = load_iris()\n",
        "df = pd.DataFrame(data.data, columns=data.feature_names)\n",
        "df['target'] = data.target\n",
        "\n",
        "X = df.loc[:, ['sepal length (cm)', \n",
        "               'sepal width (cm)',\n",
        "               'petal length (cm)',\n",
        "               'petal width (cm)']]\n",
        "\n",
        "y = df.loc[:, 'target'].values\n",
        "\n",
        "df.head()"
      ],
      "execution_count": 190,
      "outputs": [
        {
          "output_type": "execute_result",
          "data": {
            "text/html": [
              "<div>\n",
              "<style scoped>\n",
              "    .dataframe tbody tr th:only-of-type {\n",
              "        vertical-align: middle;\n",
              "    }\n",
              "\n",
              "    .dataframe tbody tr th {\n",
              "        vertical-align: top;\n",
              "    }\n",
              "\n",
              "    .dataframe thead th {\n",
              "        text-align: right;\n",
              "    }\n",
              "</style>\n",
              "<table border=\"1\" class=\"dataframe\">\n",
              "  <thead>\n",
              "    <tr style=\"text-align: right;\">\n",
              "      <th></th>\n",
              "      <th>sepal length (cm)</th>\n",
              "      <th>sepal width (cm)</th>\n",
              "      <th>petal length (cm)</th>\n",
              "      <th>petal width (cm)</th>\n",
              "      <th>target</th>\n",
              "    </tr>\n",
              "  </thead>\n",
              "  <tbody>\n",
              "    <tr>\n",
              "      <th>0</th>\n",
              "      <td>5.1</td>\n",
              "      <td>3.5</td>\n",
              "      <td>1.4</td>\n",
              "      <td>0.2</td>\n",
              "      <td>0</td>\n",
              "    </tr>\n",
              "    <tr>\n",
              "      <th>1</th>\n",
              "      <td>4.9</td>\n",
              "      <td>3.0</td>\n",
              "      <td>1.4</td>\n",
              "      <td>0.2</td>\n",
              "      <td>0</td>\n",
              "    </tr>\n",
              "    <tr>\n",
              "      <th>2</th>\n",
              "      <td>4.7</td>\n",
              "      <td>3.2</td>\n",
              "      <td>1.3</td>\n",
              "      <td>0.2</td>\n",
              "      <td>0</td>\n",
              "    </tr>\n",
              "    <tr>\n",
              "      <th>3</th>\n",
              "      <td>4.6</td>\n",
              "      <td>3.1</td>\n",
              "      <td>1.5</td>\n",
              "      <td>0.2</td>\n",
              "      <td>0</td>\n",
              "    </tr>\n",
              "    <tr>\n",
              "      <th>4</th>\n",
              "      <td>5.0</td>\n",
              "      <td>3.6</td>\n",
              "      <td>1.4</td>\n",
              "      <td>0.2</td>\n",
              "      <td>0</td>\n",
              "    </tr>\n",
              "  </tbody>\n",
              "</table>\n",
              "</div>"
            ],
            "text/plain": [
              "   sepal length (cm)  sepal width (cm)  ...  petal width (cm)  target\n",
              "0                5.1               3.5  ...               0.2       0\n",
              "1                4.9               3.0  ...               0.2       0\n",
              "2                4.7               3.2  ...               0.2       0\n",
              "3                4.6               3.1  ...               0.2       0\n",
              "4                5.0               3.6  ...               0.2       0\n",
              "\n",
              "[5 rows x 5 columns]"
            ]
          },
          "metadata": {},
          "execution_count": 190
        }
      ]
    },
    {
      "cell_type": "markdown",
      "metadata": {
        "id": "tVrL05_SbMpy"
      },
      "source": [
        "Aplicamos el paso estándar de estandarización (sic):"
      ]
    },
    {
      "cell_type": "code",
      "metadata": {
        "id": "fT_3uAs6bL9f"
      },
      "source": [
        "scaler = StandardScaler()\n",
        "\n",
        "# Ajusta en X (asumiendo que tu matriz de características es una matriz NumPy)\n",
        "scaler.fit(X)\n",
        "\n",
        "# Transform X\n",
        "X = scaler.transform(X);\n",
        "\n"
      ],
      "execution_count": 191,
      "outputs": []
    },
    {
      "cell_type": "markdown",
      "metadata": {
        "id": "NBjMSExdbYu_"
      },
      "source": [
        "Ahora creamos el bucle que hará los cálculos de error y score para cada k distinto (error = 1 - score):"
      ]
    },
    {
      "cell_type": "code",
      "metadata": {
        "colab": {
          "base_uri": "https://localhost:8080/"
        },
        "id": "YL9LEiuubYOp",
        "outputId": "1474fe04-83af-4f4c-b882-58326a081cfa"
      },
      "source": [
        "results = pd.Series(range(1))\n",
        "errors = pd.Series(range(1)) \n",
        "for k in range(1,51):\n",
        "  knn = KNeighborsClassifier(n_neighbors= k)  \n",
        "  X_train, X_test, y_train, y_test = train_test_split(X, y, random_state = 0)\n",
        "  knn.fit(X_train, y_train)\n",
        "  score = knn.score(X_test, y_test)\n",
        "  results = results.append(pd.Series([score], index=[k]))\n",
        "  errors = errors.append(pd.Series([1- score], index=[k]))\n",
        "\n",
        "#con esta linea eliminamos la primera fila de la serie (punto vacío):\n",
        "print(results)\n",
        "results = results[1:]\n",
        "errors = errors[1:]"
      ],
      "execution_count": 192,
      "outputs": [
        {
          "output_type": "stream",
          "name": "stdout",
          "text": [
            "0     0.000000\n",
            "1     0.947368\n",
            "2     0.947368\n",
            "3     0.973684\n",
            "4     0.973684\n",
            "5     0.973684\n",
            "6     0.973684\n",
            "7     0.973684\n",
            "8     0.973684\n",
            "9     0.973684\n",
            "10    0.973684\n",
            "11    0.973684\n",
            "12    0.973684\n",
            "13    0.973684\n",
            "14    0.973684\n",
            "15    0.973684\n",
            "16    0.973684\n",
            "17    0.973684\n",
            "18    0.973684\n",
            "19    0.921053\n",
            "20    0.921053\n",
            "21    0.921053\n",
            "22    0.921053\n",
            "23    0.921053\n",
            "24    0.921053\n",
            "25    0.921053\n",
            "26    0.921053\n",
            "27    0.947368\n",
            "28    0.894737\n",
            "29    0.921053\n",
            "30    0.894737\n",
            "31    0.921053\n",
            "32    0.894737\n",
            "33    0.921053\n",
            "34    0.894737\n",
            "35    0.921053\n",
            "36    0.868421\n",
            "37    0.842105\n",
            "38    0.842105\n",
            "39    0.868421\n",
            "40    0.842105\n",
            "41    0.842105\n",
            "42    0.842105\n",
            "43    0.868421\n",
            "44    0.842105\n",
            "45    0.842105\n",
            "46    0.842105\n",
            "47    0.842105\n",
            "48    0.842105\n",
            "49    0.842105\n",
            "50    0.842105\n",
            "dtype: float64\n"
          ]
        }
      ]
    },
    {
      "cell_type": "markdown",
      "metadata": {
        "id": "O60sDe4LefMH"
      },
      "source": [
        "Ahora construimos el plot:"
      ]
    },
    {
      "cell_type": "code",
      "metadata": {
        "colab": {
          "base_uri": "https://localhost:8080/",
          "height": 265
        },
        "id": "LQddn0Ehw2MA",
        "outputId": "84a46b59-6ca2-4919-82d6-fc215de91af8"
      },
      "source": [
        "import matplotlib.pyplot as plt\n",
        "#plot de los score\n",
        "#plt.plot(results.index, results.values, color='green')\n",
        "\n",
        "#plot de los errores\n",
        "plt.plot(errors.index, errors.values, color='red')\n",
        "plt.xlim([1, 51])\n",
        "plt.show()"
      ],
      "execution_count": 195,
      "outputs": [
        {
          "output_type": "display_data",
          "data": {
            "image/png": "[encoded data removed]",
            "text/plain": [
              "<Figure size 432x288 with 1 Axes>"
            ]
          },
          "metadata": {
            "needs_background": "light"
          }
        }
      ]
    }
  ]
}