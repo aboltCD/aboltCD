{
  "nbformat": 4,
  "nbformat_minor": 0,
  "metadata": {
    "colab": {
      "name": "Regresión Logística.ipynb",
      "provenance": [],
      "include_colab_link": true
    },
    "kernelspec": {
      "name": "python3",
      "display_name": "Python 3"
    },
    "language_info": {
      "name": "python"
    }
  },
  "cells": [
    {
      "cell_type": "markdown",
      "metadata": {
        "id": "view-in-github",
        "colab_type": "text"
      },
      "source": [
        "<a href=\"https://colab.research.google.com/github/aboltCD/aboltCD/blob/main/Regresi%C3%B3n_Log%C3%ADstica.ipynb\" target=\"_parent\"><img src=\"https://colab.research.google.com/assets/colab-badge.svg\" alt=\"Open In Colab\"/></a>"
      ]
    },
    {
      "cell_type": "markdown",
      "metadata": {
        "id": "t657Bi9wRCp6"
      },
      "source": [
        "## Regresión Logística\n",
        "\n",
        "En este notebook haremos predicciones sobre cáncer de mamas en base propiedades de sus tumores utilizando Regresiones Logísticas.\n",
        "\n",
        "Sin embargo, el plato fuerte esta vez es el uso de validación cruzada para estabilizar los resultados al disminuir los sesgos de seleccion de datos y la optimización de hiperparámetros.\n",
        "\n",
        "Comenzamos por importar las librerías necesarias:"
      ]
    },
    {
      "cell_type": "code",
      "metadata": {
        "id": "DLIgjUitRRj7"
      },
      "source": [
        "from sklearn.linear_model import LogisticRegression\n",
        "from sklearn.datasets import load_breast_cancer\n",
        "from sklearn.metrics import classification_report, plot_roc_curve\n",
        "from sklearn.model_selection import train_test_split\n",
        "from sklearn.model_selection import cross_val_score\n",
        "from sklearn.model_selection import GridSearchCV\n",
        "from sklearn.preprocessing import StandardScaler\n",
        "import matplotlib.pyplot as plt\n",
        "import pandas as pd\n",
        "\n",
        "#import warnings\n",
        "#warnings.filterwarnings('ignore')"
      ],
      "execution_count": 44,
      "outputs": []
    },
    {
      "cell_type": "markdown",
      "metadata": {
        "id": "CO_Ivrgcc71P"
      },
      "source": [
        "Ahora cargamos el dataset del cancer, lo separamos en Features y Target, lo escalamos y dividimos en entrenamiento y prueba (en este caso, utilizamos un 10% de los datos como prueba):"
      ]
    },
    {
      "cell_type": "code",
      "metadata": {
        "id": "hEquSt-KdBV9"
      },
      "source": [
        "cancer = load_breast_cancer()\n",
        "\n",
        "#separamos en features y target\n",
        "\n",
        "df = pd.DataFrame(cancer.data, columns = cancer.feature_names)\n",
        "df[\"cancer\"] = cancer.target\n",
        "\n",
        "#Feature Matrix (todos los atributos)\n",
        "X = df.drop(\"cancer\",1)  \n",
        "\n",
        "#Target Variable\n",
        "y = df[[\"cancer\"]]   \n",
        "   \n",
        "#separamos en entrenamiento y prueba\n",
        "X_train, X_test, y_train, y_test = train_test_split(X, y, test_size=.10, random_state = 1)\n",
        "\n",
        "#escalamos solo los features X (y es una categoría, por lo que no debe ser escalada)\n",
        "scalerX = StandardScaler().fit(X_train)\n",
        "\n",
        "X_train = scalerX.transform(X_train)\n",
        "X_test = scalerX.transform(X_test)\n",
        "\n"
      ],
      "execution_count": 39,
      "outputs": []
    },
    {
      "cell_type": "markdown",
      "metadata": {
        "id": "nMf0jmFYerRQ"
      },
      "source": [
        "Ahora, buscamos los mejores parámetros para la regresión logística utilizando Grid Search Cross Validation para buscar el mejor parámetro en una \"Grilla\" de posibles candidatos (combinaciones de valores de parámetros) en donde cáda candidato será evaluado con validación cruzada.\n",
        "\n",
        "Notemos ahora que LogisticRegression sólo usa la configuración OVR (One vs Rest) ya que es un problema de clasificación binaria. \n",
        "\n",
        "Además, notemos que el \"param grid\" tiene varias configuraciones. Esto se debe a que algunos solvers no soportan regularizaciones lasso, ridge, o elasticnet:"
      ]
    },
    {
      "cell_type": "code",
      "metadata": {
        "colab": {
          "base_uri": "https://localhost:8080/"
        },
        "id": "T5Ldr15deq5u",
        "outputId": "68ce5ee0-24af-48cf-d849-7c242815c7b3"
      },
      "source": [
        "param_grid = [\n",
        "    {'penalty': ['l1'] , 'solver': ['liblinear', 'saga'], 'C': [100, 50, 20, 10, 5, 1, 0.5, 0.3, 0.2, 0.1]},\n",
        "    {'penalty': ['elasticnet'], 'solver': ['saga'], 'C': [100, 50, 20, 10, 5, 1, 0.5, 0.3, 0.2, 0.1]},\n",
        "    {'penalty': ['l2'], 'solver': ['newton-cg', 'lbfgs', 'liblinear', 'sag'], 'C': [100, 50, 20, 10, 5, 1, 0.5, 0.3, 0.2, 0.1]},\n",
        "    {'penalty': ['none'], 'solver': ['newton-cg', 'lbfgs', 'sag', 'saga']}, \n",
        " ]\n",
        "\n",
        "reglog = GridSearchCV(estimator = LogisticRegression( multi_class = 'ovr'), param_grid = param_grid, scoring = 'accuracy', cv=10) \n",
        "\n",
        "reglog.fit(X_train, y_train.values.ravel())"
      ],
      "execution_count": 40,
      "outputs": [
        {
          "output_type": "execute_result",
          "data": {
            "text/plain": [
              "GridSearchCV(cv=10, error_score=nan,\n",
              "             estimator=LogisticRegression(C=1.0, class_weight=None, dual=False,\n",
              "                                          fit_intercept=True,\n",
              "                                          intercept_scaling=1, l1_ratio=None,\n",
              "                                          max_iter=100, multi_class='ovr',\n",
              "                                          n_jobs=None, penalty='l2',\n",
              "                                          random_state=None, solver='lbfgs',\n",
              "                                          tol=0.0001, verbose=0,\n",
              "                                          warm_start=False),\n",
              "             iid='deprecated', n_jobs=None,\n",
              "             param_grid=[{'C': [100, 50, 20, 10, 5, 1, 0.5, 0....\n",
              "                          'penalty': ['l1'], 'solver': ['liblinear', 'saga']},\n",
              "                         {'C': [100, 50, 20, 10, 5, 1, 0.5, 0.3, 0.2, 0.1],\n",
              "                          'penalty': ['elasticnet'], 'solver': ['saga']},\n",
              "                         {'C': [100, 50, 20, 10, 5, 1, 0.5, 0.3, 0.2, 0.1],\n",
              "                          'penalty': ['l2'],\n",
              "                          'solver': ['newton-cg', 'lbfgs', 'liblinear', 'sag']},\n",
              "                         {'penalty': ['none'],\n",
              "                          'solver': ['newton-cg', 'lbfgs', 'sag', 'saga']}],\n",
              "             pre_dispatch='2*n_jobs', refit=True, return_train_score=False,\n",
              "             scoring='accuracy', verbose=0)"
            ]
          },
          "metadata": {},
          "execution_count": 40
        }
      ]
    },
    {
      "cell_type": "code",
      "metadata": {
        "colab": {
          "base_uri": "https://localhost:8080/"
        },
        "id": "ImdfBZJNQt3K",
        "outputId": "fae5c55f-c02a-49f5-81ec-4272024e05a7"
      },
      "source": [
        "print(\"Mejor score (accuracy): \", reglog.best_score_)\n",
        "print(\"Mejores hiperparámetros: \", reglog.best_params_)\n",
        "print(\"Mejor modelo: \", reglog.best_estimator_)\n",
        "\n",
        "best_model = reglog.best_estimator_"
      ],
      "execution_count": 41,
      "outputs": [
        {
          "output_type": "stream",
          "name": "stdout",
          "text": [
            "Mejor score (accuracy):  0.9747360482654599\n",
            "Mejores hiperparámetros:  {'C': 0.1, 'penalty': 'l2', 'solver': 'liblinear'}\n",
            "Mejor modelo:  LogisticRegression(C=0.1, class_weight=None, dual=False, fit_intercept=True,\n",
            "                   intercept_scaling=1, l1_ratio=None, max_iter=100,\n",
            "                   multi_class='ovr', n_jobs=None, penalty='l2',\n",
            "                   random_state=None, solver='liblinear', tol=0.0001, verbose=0,\n",
            "                   warm_start=False)\n"
          ]
        }
      ]
    },
    {
      "cell_type": "markdown",
      "metadata": {
        "id": "x-6WB_X0In4n"
      },
      "source": [
        "Ahora podemos obtener el mejor \"modelo\". No olvidemos reentrenarlo con los datos de entrenamiento completos. Queremos utilizar sólo los hiperparámetros de este mejor modelo. Luego imprimimos sus scores finales con respecto a los datos de prueba."
      ]
    },
    {
      "cell_type": "code",
      "metadata": {
        "id": "c-9BARTvVCkN",
        "colab": {
          "base_uri": "https://localhost:8080/"
        },
        "outputId": "715f1964-a17e-44ae-92f8-f600054a63f0"
      },
      "source": [
        "best_model.fit(X_train,y_train.values.ravel())\n",
        "\n",
        "y_pred = best_model.predict(X_test)\n",
        "\n",
        "print(classification_report(y_test, y_pred, target_names=cancer.target_names))"
      ],
      "execution_count": 42,
      "outputs": [
        {
          "output_type": "stream",
          "name": "stdout",
          "text": [
            "              precision    recall  f1-score   support\n",
            "\n",
            "   malignant       1.00      1.00      1.00        23\n",
            "      benign       1.00      1.00      1.00        34\n",
            "\n",
            "    accuracy                           1.00        57\n",
            "   macro avg       1.00      1.00      1.00        57\n",
            "weighted avg       1.00      1.00      1.00        57\n",
            "\n"
          ]
        }
      ]
    },
    {
      "cell_type": "markdown",
      "metadata": {
        "id": "OXArTwoQIZxy"
      },
      "source": [
        "Ahora, imprimimos la curva ROC del clasificador, lo que nos muestra que es bastante bueno:"
      ]
    },
    {
      "cell_type": "code",
      "metadata": {
        "id": "eSoG3UT8H4Xj",
        "outputId": "09c1622a-7c04-4e87-f486-39d24af5c3ee",
        "colab": {
          "base_uri": "https://localhost:8080/",
          "height": 279
        }
      },
      "source": [
        "plot_roc_curve(best_model, X_train, y_train)\n",
        "plt.plot([0, 1], [0, 1], ls = '--', label = 'Baseline (AUC = 0.5)')\n",
        "plt.legend();"
      ],
      "execution_count": 47,
      "outputs": [
        {
          "output_type": "display_data",
          "data": {
            "image/png": "[encoded data removed]",
            "text/plain": [
              "<Figure size 432x288 with 1 Axes>"
            ]
          },
          "metadata": {
            "needs_background": "light"
          }
        }
      ]
    }
  ]
}