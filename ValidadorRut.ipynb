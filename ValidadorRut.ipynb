{
  "nbformat": 4,
  "nbformat_minor": 0,
  "metadata": {
    "colab": {
      "name": "Untitled1.ipynb",
      "provenance": [],
      "authorship_tag": "ABX9TyNtCjxOddhEO/eJt9+QsVt5",
      "include_colab_link": true
    },
    "kernelspec": {
      "name": "python3",
      "display_name": "Python 3"
    },
    "language_info": {
      "name": "python"
    }
  },
  "cells": [
    {
      "cell_type": "markdown",
      "metadata": {
        "id": "view-in-github",
        "colab_type": "text"
      },
      "source": [
        "<a href=\"https://colab.research.google.com/github/aboltCD/aboltCD/blob/main/ValidadorRut.ipynb\" target=\"_parent\"><img src=\"https://colab.research.google.com/assets/colab-badge.svg\" alt=\"Open In Colab\"/></a>"
      ]
    },
    {
      "cell_type": "markdown",
      "metadata": {
        "id": "9oVVIgL3dVyI"
      },
      "source": [
        "Validador de Rut"
      ]
    },
    {
      "cell_type": "code",
      "metadata": {
        "colab": {
          "base_uri": "https://localhost:8080/"
        },
        "id": "tclAJ2kldNpK",
        "outputId": "8a27e800-12af-4139-86c5-75222a7c579e"
      },
      "source": [
        "from itertools import cycle\n",
        "\n",
        "rut = \"16100624\"\n",
        "reversed_digits = map(int, reversed(str(rut)))\n",
        "factors = cycle(range(2, 8))\n",
        "s = sum(d * f for d, f in zip(reversed_digits, factors))\n",
        "print ((-s) % 11)"
      ],
      "execution_count": 12,
      "outputs": [
        {
          "output_type": "stream",
          "text": [
            "6\n"
          ],
          "name": "stdout"
        }
      ]
    }
  ]
}