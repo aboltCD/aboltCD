{
  "nbformat": 4,
  "nbformat_minor": 0,
  "metadata": {
    "colab": {
      "name": "Untitled1.ipynb",
      "provenance": [],
      "authorship_tag": "ABX9TyNI2d7rjGN/S+ONwvr/zYyR",
      "include_colab_link": true
    },
    "kernelspec": {
      "name": "python3",
      "display_name": "Python 3"
    },
    "language_info": {
      "name": "python"
    }
  },
  "cells": [
    {
      "cell_type": "markdown",
      "metadata": {
        "id": "view-in-github",
        "colab_type": "text"
      },
      "source": [
        "<a href=\"https://colab.research.google.com/github/aboltCD/aboltCD/blob/main/ValidadorRut.ipynb\" target=\"_parent\"><img src=\"https://colab.research.google.com/assets/colab-badge.svg\" alt=\"Open In Colab\"/></a>"
      ]
    },
    {
      "cell_type": "markdown",
      "metadata": {
        "id": "9oVVIgL3dVyI"
      },
      "source": [
        "Validador de Rut:\n",
        "\n",
        "Preguntas:\n",
        "\n",
        "Que hace la función \"reversed\"?\n",
        "Que hace la función \"cycle\"?"
      ]
    },
    {
      "cell_type": "code",
      "metadata": {
        "id": "tclAJ2kldNpK"
      },
      "source": [
        "from itertools import cycle\n",
        "\n",
        "rut = \"16100624\"\n",
        "reversed_digits = map(int, reversed(str(rut)))\n",
        "\n"
      ],
      "execution_count": 20,
      "outputs": []
    },
    {
      "cell_type": "markdown",
      "metadata": {
        "id": "yOGt5CncnkrC"
      },
      "source": [
        "Revisamos los dígitos invertidos"
      ]
    },
    {
      "cell_type": "code",
      "metadata": {
        "colab": {
          "base_uri": "https://localhost:8080/"
        },
        "id": "YWCaeBr1nplx",
        "outputId": "9f3fcc8f-6231-4792-c414-147d833dfd4a"
      },
      "source": [
        "print(reversed_digits)\n",
        "for x in zip(reversed_digits):\n",
        "  print(x)"
      ],
      "execution_count": 22,
      "outputs": [
        {
          "output_type": "stream",
          "text": [
            "<map object at 0x7feb06b239d0>\n",
            "(4,)\n",
            "(2,)\n",
            "(6,)\n",
            "(0,)\n",
            "(0,)\n",
            "(1,)\n",
            "(6,)\n",
            "(1,)\n"
          ],
          "name": "stdout"
        }
      ]
    },
    {
      "cell_type": "code",
      "metadata": {
        "id": "aQOZ1ugjnnRb"
      },
      "source": [
        "factors = cycle(range(2, 8))\n",
        "\n",
        "s = sum(d * f for d, f in zip(reversed_digits, factors))\n",
        "\n"
      ],
      "execution_count": null,
      "outputs": []
    },
    {
      "cell_type": "markdown",
      "metadata": {
        "id": "XwseXcmCoifS"
      },
      "source": [
        "s contiene la suma acumulada de la multiplicación de dígitos y factores. finalmente imprimimos s%11"
      ]
    },
    {
      "cell_type": "code",
      "metadata": {
        "colab": {
          "base_uri": "https://localhost:8080/"
        },
        "id": "cfY2XCKUoodV",
        "outputId": "3b13b7fe-d2ce-4cd4-84cb-96f3b9b87988"
      },
      "source": [
        "print ((-s) % 11)"
      ],
      "execution_count": 23,
      "outputs": [
        {
          "output_type": "stream",
          "text": [
            "6\n"
          ],
          "name": "stdout"
        }
      ]
    },
    {
      "cell_type": "markdown",
      "metadata": {
        "id": "WZQLVNtGop8u"
      },
      "source": [
        "y fin :)"
      ]
    }
  ]
}