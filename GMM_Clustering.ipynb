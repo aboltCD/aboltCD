{
  "nbformat": 4,
  "nbformat_minor": 0,
  "metadata": {
    "kernelspec": {
      "display_name": "Python 3",
      "language": "python",
      "name": "python3"
    },
    "language_info": {
      "codemirror_mode": {
        "name": "ipython",
        "version": 3
      },
      "file_extension": ".py",
      "mimetype": "text/x-python",
      "name": "python",
      "nbconvert_exporter": "python",
      "pygments_lexer": "ipython3",
      "version": "3.7.6"
    },
    "papermill": {
      "duration": 17.31099,
      "end_time": "2020-08-30T16:00:32.174557",
      "environment_variables": {},
      "exception": null,
      "input_path": "__notebook__.ipynb",
      "output_path": "__notebook__.ipynb",
      "parameters": {},
      "start_time": "2020-08-30T16:00:14.863567",
      "version": "2.1.0"
    },
    "colab": {
      "name": "GMM Clustering.ipynb",
      "provenance": [],
      "include_colab_link": true
    }
  },
  "cells": [
    {
      "cell_type": "markdown",
      "metadata": {
        "id": "view-in-github",
        "colab_type": "text"
      },
      "source": [
        "<a href=\"https://colab.research.google.com/github/aboltCD/aboltCD/blob/main/GMM_Clustering.ipynb\" target=\"_parent\"><img src=\"https://colab.research.google.com/assets/colab-badge.svg\" alt=\"Open In Colab\"/></a>"
      ]
    },
    {
      "cell_type": "markdown",
      "metadata": {
        "papermill": {
          "duration": 0.009283,
          "end_time": "2020-08-30T16:00:19.366750",
          "exception": false,
          "start_time": "2020-08-30T16:00:19.357467",
          "status": "completed"
        },
        "tags": [],
        "id": "C5N4saHhrnLP"
      },
      "source": [
        "# Clustering con Gaussian Mixture Models\n",
        "\n",
        "En este notebook realizaremos funciones de clustering de datos utilizando el dataset de fisher (Iris). Primero comenzamos importando las librerías necesarias"
      ]
    },
    {
      "cell_type": "code",
      "metadata": {
        "_cell_guid": "b1076dfc-b9ad-4769-8c92-a6c4dae69d19",
        "_uuid": "8f2839f25d086af736a60e9eeb907d3b93b6e0e5",
        "execution": {
          "iopub.execute_input": "2020-08-30T16:00:19.437596Z",
          "iopub.status.busy": "2020-08-30T16:00:19.436851Z",
          "iopub.status.idle": "2020-08-30T16:00:20.704106Z",
          "shell.execute_reply": "2020-08-30T16:00:20.703288Z"
        },
        "papermill": {
          "duration": 1.28205,
          "end_time": "2020-08-30T16:00:20.704247",
          "exception": false,
          "start_time": "2020-08-30T16:00:19.422197",
          "status": "completed"
        },
        "tags": [],
        "id": "eGnPuNUqrnLT"
      },
      "source": [
        "import pandas as pd\n",
        "import numpy as np\n",
        "import matplotlib.pyplot as plt \n",
        "import seaborn as sns\n",
        "from sklearn.mixture import GaussianMixture \n",
        "from sklearn.datasets import load_iris"
      ],
      "execution_count": 44,
      "outputs": []
    },
    {
      "cell_type": "markdown",
      "metadata": {
        "papermill": {
          "duration": 0.007997,
          "end_time": "2020-08-30T16:00:20.720418",
          "exception": false,
          "start_time": "2020-08-30T16:00:20.712421",
          "status": "completed"
        },
        "tags": [],
        "id": "e7ff8l7TrnLU"
      },
      "source": [
        "Gardamos los cuatro features originales del dataset (en este caso haremos clustering, por lo que el target no se usará)"
      ]
    },
    {
      "cell_type": "code",
      "metadata": {
        "_cell_guid": "79c7e3d0-c299-4dcb-8224-4455121ee9b0",
        "_uuid": "d629ff2d2480ee46fbb7e2d37f6b5fab8052498a",
        "execution": {
          "iopub.execute_input": "2020-08-30T16:00:20.750499Z",
          "iopub.status.busy": "2020-08-30T16:00:20.749617Z",
          "iopub.status.idle": "2020-08-30T16:00:20.764098Z",
          "shell.execute_reply": "2020-08-30T16:00:20.764728Z"
        },
        "papermill": {
          "duration": 0.036656,
          "end_time": "2020-08-30T16:00:20.764910",
          "exception": false,
          "start_time": "2020-08-30T16:00:20.728254",
          "status": "completed"
        },
        "tags": [],
        "id": "lEZh_EzsrnLU"
      },
      "source": [
        "iris = load_iris()\n",
        "X = iris.data"
      ],
      "execution_count": 45,
      "outputs": []
    },
    {
      "cell_type": "markdown",
      "metadata": {
        "papermill": {
          "duration": 0.012068,
          "end_time": "2020-08-30T16:00:30.382983",
          "exception": false,
          "start_time": "2020-08-30T16:00:30.370915",
          "status": "completed"
        },
        "tags": [],
        "id": "6aedD9YarnLY"
      },
      "source": [
        "Ahora agrupamos estos datos utilizando GMM. Sin embargo, tenemos que buscar dos hiperparámetros: n_components (el k) y covariance_type. En este caso probaremos con k desde 1 hasta 11:"
      ]
    },
    {
      "cell_type": "code",
      "metadata": {
        "execution": {
          "iopub.execute_input": "2020-08-30T16:00:30.416111Z",
          "iopub.status.busy": "2020-08-30T16:00:30.414986Z",
          "iopub.status.idle": "2020-08-30T16:00:30.908445Z",
          "shell.execute_reply": "2020-08-30T16:00:30.907613Z"
        },
        "papermill": {
          "duration": 0.513639,
          "end_time": "2020-08-30T16:00:30.908576",
          "exception": false,
          "start_time": "2020-08-30T16:00:30.394937",
          "status": "completed"
        },
        "tags": [],
        "id": "ctqPXGfSrnLY"
      },
      "source": [
        "resultados = [[]]\n",
        "\n",
        "covariances = ['full', 'tied', 'diag', 'spherical']\n",
        "for i in range(1, 11):\n",
        "  temp = []\n",
        "  for j in covariances:\n",
        "    model = GaussianMixture(n_components = i, covariance_type = j, random_state = 0)\n",
        "    model.fit(X)\n",
        "    temp.append(model.bic(X))\n",
        "  resultados.append(temp)"
      ],
      "execution_count": 46,
      "outputs": []
    },
    {
      "cell_type": "markdown",
      "metadata": {
        "papermill": {
          "duration": 0.011904,
          "end_time": "2020-08-30T16:00:30.932631",
          "exception": false,
          "start_time": "2020-08-30T16:00:30.920727",
          "status": "completed"
        },
        "tags": [],
        "id": "HN0Pxj1wrnLZ"
      },
      "source": [
        "# Tratamiento de los resultados\n",
        "\n",
        "Ahora visualizamos la tabla de los resultados. Primero, la podemos pasara un data frame de pandas\n"
      ]
    },
    {
      "cell_type": "code",
      "metadata": {
        "execution": {
          "iopub.execute_input": "2020-08-30T16:00:30.974130Z",
          "iopub.status.busy": "2020-08-30T16:00:30.973012Z",
          "iopub.status.idle": "2020-08-30T16:00:31.265436Z",
          "shell.execute_reply": "2020-08-30T16:00:31.264759Z"
        },
        "papermill": {
          "duration": 0.320899,
          "end_time": "2020-08-30T16:00:31.265559",
          "exception": false,
          "start_time": "2020-08-30T16:00:30.944660",
          "status": "completed"
        },
        "tags": [],
        "colab": {
          "base_uri": "https://localhost:8080/"
        },
        "id": "bGOdge7rrnLZ",
        "outputId": "b362aece-113e-492a-dad1-11246a73bdab"
      },
      "source": [
        "df = pd.DataFrame(resultados, columns = covariances)\n",
        "df = df.dropna()\n",
        "df['n_components'] = range(1, len(df) + 1)\n",
        "print(df)\n"
      ],
      "execution_count": 47,
      "outputs": [
        {
          "output_type": "stream",
          "name": "stdout",
          "text": [
            "          full        tied         diag    spherical  n_components\n",
            "1   829.978155  829.978155  1522.120153  1804.085438             1\n",
            "2   574.017833  688.097220   857.551494  1012.235180             2\n",
            "3   580.861278  633.846247   744.640361   853.823577             3\n",
            "4   625.441241  618.038221   705.135926   784.932156             4\n",
            "5   668.797968  665.304566   701.128283   743.710564             5\n",
            "6   713.424574  624.797592   697.169253   706.311419             6\n",
            "7   775.188440  618.656449   703.151267   714.239420             7\n",
            "8   830.262285  623.236949   710.690965   694.519394             8\n",
            "9   825.321198  649.714344   737.940544   717.186225             9\n",
            "10  846.715717  669.887814   773.951775   733.451193            10\n"
          ]
        }
      ]
    },
    {
      "cell_type": "markdown",
      "metadata": {
        "id": "xsxeqr9om-gq"
      },
      "source": [
        "Ahora podemos encontrar los mejores hiperparámetros ploteando los rangos de valores de \"n_components\" y del tipo de covarianza:\n",
        "\n",
        "Nota: el score incluido en el plot es el BIC score (Bayesian Information Criterion)"
      ]
    },
    {
      "cell_type": "code",
      "metadata": {
        "colab": {
          "base_uri": "https://localhost:8080/",
          "height": 299
        },
        "id": "mEGIgLt0nGDA",
        "outputId": "47e2ae69-ce4c-42c8-9bd6-55e983bff0cf"
      },
      "source": [
        "df.plot(x=\"n_components\", y=[\"full\", \"tied\", \"diag\", \"spherical\"], kind=\"bar\")"
      ],
      "execution_count": 48,
      "outputs": [
        {
          "output_type": "execute_result",
          "data": {
            "text/plain": [
              "<matplotlib.axes._subplots.AxesSubplot at 0x7f41f5f9d350>"
            ]
          },
          "metadata": {},
          "execution_count": 48
        },
        {
          "output_type": "display_data",
          "data": {
            "image/png": "[encoded data removed]",
            "text/plain": [
              "<Figure size 432x288 with 1 Axes>"
            ]
          },
          "metadata": {
            "needs_background": "light"
          }
        }
      ]
    },
    {
      "cell_type": "markdown",
      "metadata": {
        "papermill": {
          "duration": 0.012562,
          "end_time": "2020-08-30T16:00:31.290670",
          "exception": false,
          "start_time": "2020-08-30T16:00:31.278108",
          "status": "completed"
        },
        "tags": [],
        "id": "ge8aBtfCrnLZ"
      },
      "source": [
        "#Visualizando GMM Clustering\n",
        "\n",
        "Ahora que elegimos el mejor k, podemos visualizar nuestro clústering. Primero creamos nuestro modelo de clústering:"
      ]
    },
    {
      "cell_type": "code",
      "metadata": {
        "execution": {
          "iopub.execute_input": "2020-08-30T16:00:31.326513Z",
          "iopub.status.busy": "2020-08-30T16:00:31.322164Z",
          "iopub.status.idle": "2020-08-30T16:00:31.356730Z",
          "shell.execute_reply": "2020-08-30T16:00:31.355993Z"
        },
        "papermill": {
          "duration": 0.053588,
          "end_time": "2020-08-30T16:00:31.356875",
          "exception": false,
          "start_time": "2020-08-30T16:00:31.303287",
          "status": "completed"
        },
        "tags": [],
        "id": "F57XDJW5rnLZ"
      },
      "source": [
        "model = GaussianMixture(n_components = 3, covariance_type = 'full', random_state = 0)\n",
        "y_pred = model.fit_predict(X)"
      ],
      "execution_count": 49,
      "outputs": []
    },
    {
      "cell_type": "markdown",
      "metadata": {
        "id": "QtP3AjlHvgO2"
      },
      "source": [
        "Y ahora lo visualizamos con respecto a dos variables. Es importante recordar incluir los centroides en la visualización. El científico debe darle una interpretación a cáda clúster. En este caso, se relaciona a cada especie:"
      ]
    },
    {
      "cell_type": "code",
      "metadata": {
        "execution": {
          "iopub.execute_input": "2020-08-30T16:00:31.401740Z",
          "iopub.status.busy": "2020-08-30T16:00:31.393887Z",
          "iopub.status.idle": "2020-08-30T16:00:31.771838Z",
          "shell.execute_reply": "2020-08-30T16:00:31.771223Z"
        },
        "papermill": {
          "duration": 0.402552,
          "end_time": "2020-08-30T16:00:31.771981",
          "exception": false,
          "start_time": "2020-08-30T16:00:31.369429",
          "status": "completed"
        },
        "tags": [],
        "colab": {
          "base_uri": "https://localhost:8080/",
          "height": 149
        },
        "id": "PxIhqlbErnLZ",
        "outputId": "a2a223ce-4b20-4c39-dcc4-886da6b574ea"
      },
      "source": [
        "#Función de utilidad para plotear distribuciones normales en un gráfico:\n",
        "\n",
        "import itertools\n",
        "\n",
        "import numpy as np\n",
        "from scipy import linalg\n",
        "import matplotlib.pyplot as plt\n",
        "import matplotlib as mpl\n",
        "\n",
        "from sklearn import mixture\n",
        "\n",
        "color_iter = itertools.cycle(['navy', 'c', 'cornflowerblue', 'gold',\n",
        "                              'darkorange'])\n",
        "def plot_results(X, Y_, means, covariances, index, title):\n",
        "    splot = plt.subplot(2, 1, 1 + index)\n",
        "    for i, (mean, covar, color) in enumerate(zip(\n",
        "            means, covariances, color_iter)):\n",
        "        v, w = linalg.eigh(covar)\n",
        "        v = 2. * np.sqrt(2.) * np.sqrt(v)\n",
        "        u = w[0] / linalg.norm(w[0])\n",
        "        # as the DP will not use every component it has access to\n",
        "        # unless it needs it, we shouldn't plot the redundant\n",
        "        # components.\n",
        "        if not np.any(Y_ == i):\n",
        "            continue\n",
        "        plt.scatter(X[Y_ == i, 0], X[Y_ == i, 1], .8, color=color)\n",
        "\n",
        "        # Plot an ellipse to show the Gaussian component\n",
        "        angle = np.arctan(u[1] / u[0])\n",
        "        angle = 180. * angle / np.pi  # convert to degrees\n",
        "        ell = mpl.patches.Ellipse(mean, v[0], v[1], 180. + angle, color=color)\n",
        "        ell.set_clip_box(splot.bbox)\n",
        "        ell.set_alpha(0.5)\n",
        "        splot.add_artist(ell)\n",
        "\n",
        "    plt.xticks(())\n",
        "    plt.yticks(())\n",
        "    plt.title(title)\n",
        "\n",
        "\n",
        "plot_results(X, y_pred, model.means_, model.covariances_, 0,\n",
        "             'Gaussian Mixture para Iris (k = 3)')\n"
      ],
      "execution_count": 54,
      "outputs": [
        {
          "output_type": "display_data",
          "data": {
            "image/png": "[encoded data removed]",
            "text/plain": [
              "<Figure size 432x288 with 1 Axes>"
            ]
          },
          "metadata": {}
        }
      ]
    }
  ]
}